{
  "nbformat": 4,
  "nbformat_minor": 0,
  "metadata": {
    "colab": {
      "name": "StockMarketPrediction.ipynb",
      "provenance": [],
      "mount_file_id": "10Y-noFUrrXBagapMAi7v6V7F6rWB2nP4",
      "authorship_tag": "ABX9TyPN3CVFlf+YhlQoVPBn91eD",
      "include_colab_link": true
    },
    "kernelspec": {
      "name": "python3",
      "display_name": "Python 3"
    }
  },
  "cells": [
    {
      "cell_type": "markdown",
      "metadata": {
        "id": "view-in-github",
        "colab_type": "text"
      },
      "source": [
        "<a href=\"https://colab.research.google.com/github/samidhakhatri/Stock-Market-Prediction-using-numerical-and-Textual-analysis/blob/main/StockMarketPrediction.ipynb\" target=\"_parent\"><img src=\"https://colab.research.google.com/assets/colab-badge.svg\" alt=\"Open In Colab\"/></a>"
      ]
    },
    {
      "cell_type": "code",
      "metadata": {
        "colab": {
          "base_uri": "https://localhost:8080/"
        },
        "id": "beSkU3D3j-dC",
        "outputId": "03105697-feb1-401d-cbf5-08d627b39817"
      },
      "source": [
        "import pandas as pd\r\n",
        "import numpy as np\r\n",
        "import matplotlib.pyplot as plt\r\n",
        "import math\r\n",
        "\r\n",
        "import seaborn as sns\r\n",
        "\r\n",
        "import nltk\r\n",
        "#VADER ( Valence Aware Dictionary for Sentiment Reasoning) is a model used for\r\n",
        "# text sentiment analysis that is sensitive to both polarity (positive/negative) and intensity (strength) of emotion.\r\n",
        "nltk.download('vader_lexicon')"
      ],
      "execution_count": null,
      "outputs": [
        {
          "output_type": "stream",
          "text": [
            "[nltk_data] Downloading package vader_lexicon to /root/nltk_data...\n",
            "[nltk_data]   Package vader_lexicon is already up-to-date!\n"
          ],
          "name": "stdout"
        },
        {
          "output_type": "execute_result",
          "data": {
            "text/plain": [
              "True"
            ]
          },
          "metadata": {
            "tags": []
          },
          "execution_count": 1
        }
      ]
    },
    {
      "cell_type": "code",
      "metadata": {
        "id": "75Dmc9prDOBv"
      },
      "source": [
        "stock_prices=pd.read_csv('drive/MyDrive/^BSESN.csv')"
      ],
      "execution_count": null,
      "outputs": []
    },
    {
      "cell_type": "code",
      "metadata": {
        "colab": {
          "base_uri": "https://localhost:8080/"
        },
        "id": "n1G75C06DlNV",
        "outputId": "eeb48294-ade8-410d-bd0d-e2c5510d3fb9"
      },
      "source": [
        "print(stock_prices.head())\r\n",
        "print(stock_prices.size)"
      ],
      "execution_count": null,
      "outputs": [
        {
          "output_type": "stream",
          "text": [
            "         Date          Open          High  ...         Close     Adj Close   Volume\n",
            "0  2020-01-06  41378.339844  41378.339844  ...  40676.628906  40676.628906   8700.0\n",
            "1  2020-01-07  40983.039063  41230.140625  ...  40869.468750  40869.468750  11900.0\n",
            "2  2020-01-08  40574.828125  40866.359375  ...  40817.738281  40817.738281  18200.0\n",
            "3  2020-01-09  41216.671875  41482.121094  ...  41452.351563  41452.351563   7800.0\n",
            "4  2020-01-10  41568.199219  41775.109375  ...  41599.718750  41599.718750  13200.0\n",
            "\n",
            "[5 rows x 7 columns]\n",
            "1764\n"
          ],
          "name": "stdout"
        }
      ]
    },
    {
      "cell_type": "code",
      "metadata": {
        "colab": {
          "base_uri": "https://localhost:8080/"
        },
        "id": "4Lb1N-7OEJmy",
        "outputId": "e2cefb9f-9412-44d3-c6a7-dc92ed9c1bd8"
      },
      "source": [
        "stock_prices.info()"
      ],
      "execution_count": null,
      "outputs": [
        {
          "output_type": "stream",
          "text": [
            "<class 'pandas.core.frame.DataFrame'>\n",
            "RangeIndex: 252 entries, 0 to 251\n",
            "Data columns (total 7 columns):\n",
            " #   Column     Non-Null Count  Dtype  \n",
            "---  ------     --------------  -----  \n",
            " 0   Date       252 non-null    object \n",
            " 1   Open       250 non-null    float64\n",
            " 2   High       250 non-null    float64\n",
            " 3   Low        250 non-null    float64\n",
            " 4   Close      250 non-null    float64\n",
            " 5   Adj Close  250 non-null    float64\n",
            " 6   Volume     250 non-null    float64\n",
            "dtypes: float64(6), object(1)\n",
            "memory usage: 13.9+ KB\n"
          ],
          "name": "stdout"
        }
      ]
    },
    {
      "cell_type": "code",
      "metadata": {
        "id": "k5ssfT-opLMx"
      },
      "source": [
        "stock_headlines=pd.read_csv('drive/MyDrive/india-news-headlines.csv')"
      ],
      "execution_count": null,
      "outputs": []
    },
    {
      "cell_type": "code",
      "metadata": {
        "colab": {
          "base_uri": "https://localhost:8080/"
        },
        "id": "LvM6N1g8ApxW",
        "outputId": "548e05a2-ac6d-4a1b-8d38-f5a67300c425"
      },
      "source": [
        "print(stock_headlines.head())\r\n",
        "print(stock_headlines.size)"
      ],
      "execution_count": null,
      "outputs": [
        {
          "output_type": "stream",
          "text": [
            "   publish_date  ...                                      headline_text\n",
            "0      20010101  ...  win over cena satisfying but defeating underta...\n",
            "1      20010102  ...  Status quo will not be disturbed at Ayodhya; s...\n",
            "2      20010102  ...                Fissures in Hurriyat over Pak visit\n",
            "3      20010102  ...              America's unwanted heading for India?\n",
            "4      20010102  ...                 For bigwigs; it is destination Goa\n",
            "\n",
            "[5 rows x 3 columns]\n",
            "9891516\n"
          ],
          "name": "stdout"
        }
      ]
    },
    {
      "cell_type": "code",
      "metadata": {
        "colab": {
          "base_uri": "https://localhost:8080/",
          "height": 419
        },
        "id": "zzUU12u_D_0H",
        "outputId": "175ea50e-f79d-4540-d6cf-9f6cf7c5faa2"
      },
      "source": [
        "#converting stock_prices['Date'] object to datetime datatype\r\n",
        "stock_prices['Date']=pd.to_datetime(stock_prices['Date'])\r\n",
        "stock_prices"
      ],
      "execution_count": null,
      "outputs": [
        {
          "output_type": "execute_result",
          "data": {
            "text/html": [
              "<div>\n",
              "<style scoped>\n",
              "    .dataframe tbody tr th:only-of-type {\n",
              "        vertical-align: middle;\n",
              "    }\n",
              "\n",
              "    .dataframe tbody tr th {\n",
              "        vertical-align: top;\n",
              "    }\n",
              "\n",
              "    .dataframe thead th {\n",
              "        text-align: right;\n",
              "    }\n",
              "</style>\n",
              "<table border=\"1\" class=\"dataframe\">\n",
              "  <thead>\n",
              "    <tr style=\"text-align: right;\">\n",
              "      <th></th>\n",
              "      <th>Date</th>\n",
              "      <th>Open</th>\n",
              "      <th>High</th>\n",
              "      <th>Low</th>\n",
              "      <th>Close</th>\n",
              "      <th>Adj Close</th>\n",
              "      <th>Volume</th>\n",
              "    </tr>\n",
              "  </thead>\n",
              "  <tbody>\n",
              "    <tr>\n",
              "      <th>0</th>\n",
              "      <td>2020-01-06</td>\n",
              "      <td>41378.339844</td>\n",
              "      <td>41378.339844</td>\n",
              "      <td>40613.960938</td>\n",
              "      <td>40676.628906</td>\n",
              "      <td>40676.628906</td>\n",
              "      <td>8700.0</td>\n",
              "    </tr>\n",
              "    <tr>\n",
              "      <th>1</th>\n",
              "      <td>2020-01-07</td>\n",
              "      <td>40983.039063</td>\n",
              "      <td>41230.140625</td>\n",
              "      <td>40727.371094</td>\n",
              "      <td>40869.468750</td>\n",
              "      <td>40869.468750</td>\n",
              "      <td>11900.0</td>\n",
              "    </tr>\n",
              "    <tr>\n",
              "      <th>2</th>\n",
              "      <td>2020-01-08</td>\n",
              "      <td>40574.828125</td>\n",
              "      <td>40866.359375</td>\n",
              "      <td>40476.550781</td>\n",
              "      <td>40817.738281</td>\n",
              "      <td>40817.738281</td>\n",
              "      <td>18200.0</td>\n",
              "    </tr>\n",
              "    <tr>\n",
              "      <th>3</th>\n",
              "      <td>2020-01-09</td>\n",
              "      <td>41216.671875</td>\n",
              "      <td>41482.121094</td>\n",
              "      <td>41175.718750</td>\n",
              "      <td>41452.351563</td>\n",
              "      <td>41452.351563</td>\n",
              "      <td>7800.0</td>\n",
              "    </tr>\n",
              "    <tr>\n",
              "      <th>4</th>\n",
              "      <td>2020-01-10</td>\n",
              "      <td>41568.199219</td>\n",
              "      <td>41775.109375</td>\n",
              "      <td>41447.800781</td>\n",
              "      <td>41599.718750</td>\n",
              "      <td>41599.718750</td>\n",
              "      <td>13200.0</td>\n",
              "    </tr>\n",
              "    <tr>\n",
              "      <th>...</th>\n",
              "      <td>...</td>\n",
              "      <td>...</td>\n",
              "      <td>...</td>\n",
              "      <td>...</td>\n",
              "      <td>...</td>\n",
              "      <td>...</td>\n",
              "      <td>...</td>\n",
              "    </tr>\n",
              "    <tr>\n",
              "      <th>247</th>\n",
              "      <td>2020-12-31</td>\n",
              "      <td>47753.109375</td>\n",
              "      <td>47896.968750</td>\n",
              "      <td>47602.121094</td>\n",
              "      <td>47751.328125</td>\n",
              "      <td>47751.328125</td>\n",
              "      <td>13900.0</td>\n",
              "    </tr>\n",
              "    <tr>\n",
              "      <th>248</th>\n",
              "      <td>2021-01-01</td>\n",
              "      <td>NaN</td>\n",
              "      <td>NaN</td>\n",
              "      <td>NaN</td>\n",
              "      <td>NaN</td>\n",
              "      <td>NaN</td>\n",
              "      <td>NaN</td>\n",
              "    </tr>\n",
              "    <tr>\n",
              "      <th>249</th>\n",
              "      <td>2021-01-04</td>\n",
              "      <td>48109.171875</td>\n",
              "      <td>48220.468750</td>\n",
              "      <td>47594.468750</td>\n",
              "      <td>48176.800781</td>\n",
              "      <td>48176.800781</td>\n",
              "      <td>13900.0</td>\n",
              "    </tr>\n",
              "    <tr>\n",
              "      <th>250</th>\n",
              "      <td>2021-01-05</td>\n",
              "      <td>48037.628906</td>\n",
              "      <td>48486.238281</td>\n",
              "      <td>47903.378906</td>\n",
              "      <td>48437.781250</td>\n",
              "      <td>48437.781250</td>\n",
              "      <td>12200.0</td>\n",
              "    </tr>\n",
              "    <tr>\n",
              "      <th>251</th>\n",
              "      <td>2021-01-06</td>\n",
              "      <td>48616.660156</td>\n",
              "      <td>48616.660156</td>\n",
              "      <td>47864.140625</td>\n",
              "      <td>48219.910156</td>\n",
              "      <td>48219.910156</td>\n",
              "      <td>0.0</td>\n",
              "    </tr>\n",
              "  </tbody>\n",
              "</table>\n",
              "<p>252 rows × 7 columns</p>\n",
              "</div>"
            ],
            "text/plain": [
              "          Date          Open          High  ...         Close     Adj Close   Volume\n",
              "0   2020-01-06  41378.339844  41378.339844  ...  40676.628906  40676.628906   8700.0\n",
              "1   2020-01-07  40983.039063  41230.140625  ...  40869.468750  40869.468750  11900.0\n",
              "2   2020-01-08  40574.828125  40866.359375  ...  40817.738281  40817.738281  18200.0\n",
              "3   2020-01-09  41216.671875  41482.121094  ...  41452.351563  41452.351563   7800.0\n",
              "4   2020-01-10  41568.199219  41775.109375  ...  41599.718750  41599.718750  13200.0\n",
              "..         ...           ...           ...  ...           ...           ...      ...\n",
              "247 2020-12-31  47753.109375  47896.968750  ...  47751.328125  47751.328125  13900.0\n",
              "248 2021-01-01           NaN           NaN  ...           NaN           NaN      NaN\n",
              "249 2021-01-04  48109.171875  48220.468750  ...  48176.800781  48176.800781  13900.0\n",
              "250 2021-01-05  48037.628906  48486.238281  ...  48437.781250  48437.781250  12200.0\n",
              "251 2021-01-06  48616.660156  48616.660156  ...  48219.910156  48219.910156      0.0\n",
              "\n",
              "[252 rows x 7 columns]"
            ]
          },
          "metadata": {
            "tags": []
          },
          "execution_count": 7
        }
      ]
    },
    {
      "cell_type": "code",
      "metadata": {
        "colab": {
          "base_uri": "https://localhost:8080/"
        },
        "id": "_ZOmfgJ7Ezvs",
        "outputId": "d9eb8ef0-6324-4d98-b054-cd5dfb8b7def"
      },
      "source": [
        "#detecting any null value\r\n",
        "stock_prices.isnull().values.any()"
      ],
      "execution_count": null,
      "outputs": [
        {
          "output_type": "execute_result",
          "data": {
            "text/plain": [
              "True"
            ]
          },
          "metadata": {
            "tags": []
          },
          "execution_count": 8
        }
      ]
    },
    {
      "cell_type": "code",
      "metadata": {
        "id": "cF4dNO-9FVcA"
      },
      "source": [
        "#dropping any null value if any\r\n",
        "stock_prices.dropna(inplace=True)"
      ],
      "execution_count": null,
      "outputs": []
    },
    {
      "cell_type": "code",
      "metadata": {
        "colab": {
          "base_uri": "https://localhost:8080/"
        },
        "id": "3SY939YpFc0Y",
        "outputId": "481a0fb0-428e-4936-80dd-cb9f56e6237a"
      },
      "source": [
        "print(stock_prices.head())"
      ],
      "execution_count": null,
      "outputs": [
        {
          "output_type": "stream",
          "text": [
            "        Date          Open          High  ...         Close     Adj Close   Volume\n",
            "0 2020-01-06  41378.339844  41378.339844  ...  40676.628906  40676.628906   8700.0\n",
            "1 2020-01-07  40983.039063  41230.140625  ...  40869.468750  40869.468750  11900.0\n",
            "2 2020-01-08  40574.828125  40866.359375  ...  40817.738281  40817.738281  18200.0\n",
            "3 2020-01-09  41216.671875  41482.121094  ...  41452.351563  41452.351563   7800.0\n",
            "4 2020-01-10  41568.199219  41775.109375  ...  41599.718750  41599.718750  13200.0\n",
            "\n",
            "[5 rows x 7 columns]\n"
          ],
          "name": "stdout"
        }
      ]
    },
    {
      "cell_type": "code",
      "metadata": {
        "id": "qKGE31s2Qcd6"
      },
      "source": [
        "#combine the polarity of news to data and then predict the close price\r\n",
        "# i.e. close price is to be determined"
      ],
      "execution_count": null,
      "outputs": []
    },
    {
      "cell_type": "code",
      "metadata": {
        "colab": {
          "base_uri": "https://localhost:8080/",
          "height": 419
        },
        "id": "qy82zqe-ITin",
        "outputId": "05c9e98c-541a-48e1-92eb-3a8bab3bc183"
      },
      "source": [
        "stock_headlines"
      ],
      "execution_count": null,
      "outputs": [
        {
          "output_type": "execute_result",
          "data": {
            "text/html": [
              "<div>\n",
              "<style scoped>\n",
              "    .dataframe tbody tr th:only-of-type {\n",
              "        vertical-align: middle;\n",
              "    }\n",
              "\n",
              "    .dataframe tbody tr th {\n",
              "        vertical-align: top;\n",
              "    }\n",
              "\n",
              "    .dataframe thead th {\n",
              "        text-align: right;\n",
              "    }\n",
              "</style>\n",
              "<table border=\"1\" class=\"dataframe\">\n",
              "  <thead>\n",
              "    <tr style=\"text-align: right;\">\n",
              "      <th></th>\n",
              "      <th>publish_date</th>\n",
              "      <th>headline_category</th>\n",
              "      <th>headline_text</th>\n",
              "    </tr>\n",
              "  </thead>\n",
              "  <tbody>\n",
              "    <tr>\n",
              "      <th>0</th>\n",
              "      <td>20010101</td>\n",
              "      <td>sports.wwe</td>\n",
              "      <td>win over cena satisfying but defeating underta...</td>\n",
              "    </tr>\n",
              "    <tr>\n",
              "      <th>1</th>\n",
              "      <td>20010102</td>\n",
              "      <td>unknown</td>\n",
              "      <td>Status quo will not be disturbed at Ayodhya; s...</td>\n",
              "    </tr>\n",
              "    <tr>\n",
              "      <th>2</th>\n",
              "      <td>20010102</td>\n",
              "      <td>unknown</td>\n",
              "      <td>Fissures in Hurriyat over Pak visit</td>\n",
              "    </tr>\n",
              "    <tr>\n",
              "      <th>3</th>\n",
              "      <td>20010102</td>\n",
              "      <td>unknown</td>\n",
              "      <td>America's unwanted heading for India?</td>\n",
              "    </tr>\n",
              "    <tr>\n",
              "      <th>4</th>\n",
              "      <td>20010102</td>\n",
              "      <td>unknown</td>\n",
              "      <td>For bigwigs; it is destination Goa</td>\n",
              "    </tr>\n",
              "    <tr>\n",
              "      <th>...</th>\n",
              "      <td>...</td>\n",
              "      <td>...</td>\n",
              "      <td>...</td>\n",
              "    </tr>\n",
              "    <tr>\n",
              "      <th>3297167</th>\n",
              "      <td>20200630</td>\n",
              "      <td>gadgets-news</td>\n",
              "      <td>why tiktok removed 1 65 crore videos in india</td>\n",
              "    </tr>\n",
              "    <tr>\n",
              "      <th>3297168</th>\n",
              "      <td>20200630</td>\n",
              "      <td>entertainment.hindi.bollywood</td>\n",
              "      <td>apurva asrani calls alia bhatts mother soni ra...</td>\n",
              "    </tr>\n",
              "    <tr>\n",
              "      <th>3297169</th>\n",
              "      <td>20200630</td>\n",
              "      <td>entertainment.hindi.bollywood</td>\n",
              "      <td>kangana ranaut gets a doll version of herself ...</td>\n",
              "    </tr>\n",
              "    <tr>\n",
              "      <th>3297170</th>\n",
              "      <td>20200630</td>\n",
              "      <td>entertainment.hindi.bollywood</td>\n",
              "      <td>meezaan jaffrey reminisces his childhood days ...</td>\n",
              "    </tr>\n",
              "    <tr>\n",
              "      <th>3297171</th>\n",
              "      <td>20200630</td>\n",
              "      <td>entertainment.telugu.movies.news</td>\n",
              "      <td>prabhas20 titled as radhe shyam prabhas and po...</td>\n",
              "    </tr>\n",
              "  </tbody>\n",
              "</table>\n",
              "<p>3297172 rows × 3 columns</p>\n",
              "</div>"
            ],
            "text/plain": [
              "         publish_date  ...                                      headline_text\n",
              "0            20010101  ...  win over cena satisfying but defeating underta...\n",
              "1            20010102  ...  Status quo will not be disturbed at Ayodhya; s...\n",
              "2            20010102  ...                Fissures in Hurriyat over Pak visit\n",
              "3            20010102  ...              America's unwanted heading for India?\n",
              "4            20010102  ...                 For bigwigs; it is destination Goa\n",
              "...               ...  ...                                                ...\n",
              "3297167      20200630  ...      why tiktok removed 1 65 crore videos in india\n",
              "3297168      20200630  ...  apurva asrani calls alia bhatts mother soni ra...\n",
              "3297169      20200630  ...  kangana ranaut gets a doll version of herself ...\n",
              "3297170      20200630  ...  meezaan jaffrey reminisces his childhood days ...\n",
              "3297171      20200630  ...  prabhas20 titled as radhe shyam prabhas and po...\n",
              "\n",
              "[3297172 rows x 3 columns]"
            ]
          },
          "metadata": {
            "tags": []
          },
          "execution_count": 11
        }
      ]
    },
    {
      "cell_type": "code",
      "metadata": {
        "colab": {
          "base_uri": "https://localhost:8080/",
          "height": 419
        },
        "id": "uvYUakxO_dCx",
        "outputId": "66d084cb-a4b2-4621-9460-1a41bc351e23"
      },
      "source": [
        "#converting stock_prices['Date'] object to datetime datatype\r\n",
        "stock_headlines['publish_date'] = pd.to_datetime(stock_headlines['publish_date'],format= '%Y%m%d')\r\n",
        "stock_headlines"
      ],
      "execution_count": null,
      "outputs": [
        {
          "output_type": "execute_result",
          "data": {
            "text/html": [
              "<div>\n",
              "<style scoped>\n",
              "    .dataframe tbody tr th:only-of-type {\n",
              "        vertical-align: middle;\n",
              "    }\n",
              "\n",
              "    .dataframe tbody tr th {\n",
              "        vertical-align: top;\n",
              "    }\n",
              "\n",
              "    .dataframe thead th {\n",
              "        text-align: right;\n",
              "    }\n",
              "</style>\n",
              "<table border=\"1\" class=\"dataframe\">\n",
              "  <thead>\n",
              "    <tr style=\"text-align: right;\">\n",
              "      <th></th>\n",
              "      <th>publish_date</th>\n",
              "      <th>headline_category</th>\n",
              "      <th>headline_text</th>\n",
              "    </tr>\n",
              "  </thead>\n",
              "  <tbody>\n",
              "    <tr>\n",
              "      <th>0</th>\n",
              "      <td>2001-01-01</td>\n",
              "      <td>sports.wwe</td>\n",
              "      <td>win over cena satisfying but defeating underta...</td>\n",
              "    </tr>\n",
              "    <tr>\n",
              "      <th>1</th>\n",
              "      <td>2001-01-02</td>\n",
              "      <td>unknown</td>\n",
              "      <td>Status quo will not be disturbed at Ayodhya; s...</td>\n",
              "    </tr>\n",
              "    <tr>\n",
              "      <th>2</th>\n",
              "      <td>2001-01-02</td>\n",
              "      <td>unknown</td>\n",
              "      <td>Fissures in Hurriyat over Pak visit</td>\n",
              "    </tr>\n",
              "    <tr>\n",
              "      <th>3</th>\n",
              "      <td>2001-01-02</td>\n",
              "      <td>unknown</td>\n",
              "      <td>America's unwanted heading for India?</td>\n",
              "    </tr>\n",
              "    <tr>\n",
              "      <th>4</th>\n",
              "      <td>2001-01-02</td>\n",
              "      <td>unknown</td>\n",
              "      <td>For bigwigs; it is destination Goa</td>\n",
              "    </tr>\n",
              "    <tr>\n",
              "      <th>...</th>\n",
              "      <td>...</td>\n",
              "      <td>...</td>\n",
              "      <td>...</td>\n",
              "    </tr>\n",
              "    <tr>\n",
              "      <th>3297167</th>\n",
              "      <td>2020-06-30</td>\n",
              "      <td>gadgets-news</td>\n",
              "      <td>why tiktok removed 1 65 crore videos in india</td>\n",
              "    </tr>\n",
              "    <tr>\n",
              "      <th>3297168</th>\n",
              "      <td>2020-06-30</td>\n",
              "      <td>entertainment.hindi.bollywood</td>\n",
              "      <td>apurva asrani calls alia bhatts mother soni ra...</td>\n",
              "    </tr>\n",
              "    <tr>\n",
              "      <th>3297169</th>\n",
              "      <td>2020-06-30</td>\n",
              "      <td>entertainment.hindi.bollywood</td>\n",
              "      <td>kangana ranaut gets a doll version of herself ...</td>\n",
              "    </tr>\n",
              "    <tr>\n",
              "      <th>3297170</th>\n",
              "      <td>2020-06-30</td>\n",
              "      <td>entertainment.hindi.bollywood</td>\n",
              "      <td>meezaan jaffrey reminisces his childhood days ...</td>\n",
              "    </tr>\n",
              "    <tr>\n",
              "      <th>3297171</th>\n",
              "      <td>2020-06-30</td>\n",
              "      <td>entertainment.telugu.movies.news</td>\n",
              "      <td>prabhas20 titled as radhe shyam prabhas and po...</td>\n",
              "    </tr>\n",
              "  </tbody>\n",
              "</table>\n",
              "<p>3297172 rows × 3 columns</p>\n",
              "</div>"
            ],
            "text/plain": [
              "        publish_date  ...                                      headline_text\n",
              "0         2001-01-01  ...  win over cena satisfying but defeating underta...\n",
              "1         2001-01-02  ...  Status quo will not be disturbed at Ayodhya; s...\n",
              "2         2001-01-02  ...                Fissures in Hurriyat over Pak visit\n",
              "3         2001-01-02  ...              America's unwanted heading for India?\n",
              "4         2001-01-02  ...                 For bigwigs; it is destination Goa\n",
              "...              ...  ...                                                ...\n",
              "3297167   2020-06-30  ...      why tiktok removed 1 65 crore videos in india\n",
              "3297168   2020-06-30  ...  apurva asrani calls alia bhatts mother soni ra...\n",
              "3297169   2020-06-30  ...  kangana ranaut gets a doll version of herself ...\n",
              "3297170   2020-06-30  ...  meezaan jaffrey reminisces his childhood days ...\n",
              "3297171   2020-06-30  ...  prabhas20 titled as radhe shyam prabhas and po...\n",
              "\n",
              "[3297172 rows x 3 columns]"
            ]
          },
          "metadata": {
            "tags": []
          },
          "execution_count": 12
        }
      ]
    },
    {
      "cell_type": "code",
      "metadata": {
        "colab": {
          "base_uri": "https://localhost:8080/",
          "height": 419
        },
        "id": "1Bb8TDMM-dBK",
        "outputId": "e27d50dd-0c01-4c0a-b34b-e1402498fca3"
      },
      "source": [
        "#dropping any duplicate value\r\n",
        "stock_headlines.drop_duplicates()"
      ],
      "execution_count": null,
      "outputs": [
        {
          "output_type": "execute_result",
          "data": {
            "text/html": [
              "<div>\n",
              "<style scoped>\n",
              "    .dataframe tbody tr th:only-of-type {\n",
              "        vertical-align: middle;\n",
              "    }\n",
              "\n",
              "    .dataframe tbody tr th {\n",
              "        vertical-align: top;\n",
              "    }\n",
              "\n",
              "    .dataframe thead th {\n",
              "        text-align: right;\n",
              "    }\n",
              "</style>\n",
              "<table border=\"1\" class=\"dataframe\">\n",
              "  <thead>\n",
              "    <tr style=\"text-align: right;\">\n",
              "      <th></th>\n",
              "      <th>publish_date</th>\n",
              "      <th>headline_category</th>\n",
              "      <th>headline_text</th>\n",
              "    </tr>\n",
              "  </thead>\n",
              "  <tbody>\n",
              "    <tr>\n",
              "      <th>0</th>\n",
              "      <td>2001-01-01</td>\n",
              "      <td>sports.wwe</td>\n",
              "      <td>win over cena satisfying but defeating underta...</td>\n",
              "    </tr>\n",
              "    <tr>\n",
              "      <th>1</th>\n",
              "      <td>2001-01-02</td>\n",
              "      <td>unknown</td>\n",
              "      <td>Status quo will not be disturbed at Ayodhya; s...</td>\n",
              "    </tr>\n",
              "    <tr>\n",
              "      <th>2</th>\n",
              "      <td>2001-01-02</td>\n",
              "      <td>unknown</td>\n",
              "      <td>Fissures in Hurriyat over Pak visit</td>\n",
              "    </tr>\n",
              "    <tr>\n",
              "      <th>3</th>\n",
              "      <td>2001-01-02</td>\n",
              "      <td>unknown</td>\n",
              "      <td>America's unwanted heading for India?</td>\n",
              "    </tr>\n",
              "    <tr>\n",
              "      <th>4</th>\n",
              "      <td>2001-01-02</td>\n",
              "      <td>unknown</td>\n",
              "      <td>For bigwigs; it is destination Goa</td>\n",
              "    </tr>\n",
              "    <tr>\n",
              "      <th>...</th>\n",
              "      <td>...</td>\n",
              "      <td>...</td>\n",
              "      <td>...</td>\n",
              "    </tr>\n",
              "    <tr>\n",
              "      <th>3297167</th>\n",
              "      <td>2020-06-30</td>\n",
              "      <td>gadgets-news</td>\n",
              "      <td>why tiktok removed 1 65 crore videos in india</td>\n",
              "    </tr>\n",
              "    <tr>\n",
              "      <th>3297168</th>\n",
              "      <td>2020-06-30</td>\n",
              "      <td>entertainment.hindi.bollywood</td>\n",
              "      <td>apurva asrani calls alia bhatts mother soni ra...</td>\n",
              "    </tr>\n",
              "    <tr>\n",
              "      <th>3297169</th>\n",
              "      <td>2020-06-30</td>\n",
              "      <td>entertainment.hindi.bollywood</td>\n",
              "      <td>kangana ranaut gets a doll version of herself ...</td>\n",
              "    </tr>\n",
              "    <tr>\n",
              "      <th>3297170</th>\n",
              "      <td>2020-06-30</td>\n",
              "      <td>entertainment.hindi.bollywood</td>\n",
              "      <td>meezaan jaffrey reminisces his childhood days ...</td>\n",
              "    </tr>\n",
              "    <tr>\n",
              "      <th>3297171</th>\n",
              "      <td>2020-06-30</td>\n",
              "      <td>entertainment.telugu.movies.news</td>\n",
              "      <td>prabhas20 titled as radhe shyam prabhas and po...</td>\n",
              "    </tr>\n",
              "  </tbody>\n",
              "</table>\n",
              "<p>3275587 rows × 3 columns</p>\n",
              "</div>"
            ],
            "text/plain": [
              "        publish_date  ...                                      headline_text\n",
              "0         2001-01-01  ...  win over cena satisfying but defeating underta...\n",
              "1         2001-01-02  ...  Status quo will not be disturbed at Ayodhya; s...\n",
              "2         2001-01-02  ...                Fissures in Hurriyat over Pak visit\n",
              "3         2001-01-02  ...              America's unwanted heading for India?\n",
              "4         2001-01-02  ...                 For bigwigs; it is destination Goa\n",
              "...              ...  ...                                                ...\n",
              "3297167   2020-06-30  ...      why tiktok removed 1 65 crore videos in india\n",
              "3297168   2020-06-30  ...  apurva asrani calls alia bhatts mother soni ra...\n",
              "3297169   2020-06-30  ...  kangana ranaut gets a doll version of herself ...\n",
              "3297170   2020-06-30  ...  meezaan jaffrey reminisces his childhood days ...\n",
              "3297171   2020-06-30  ...  prabhas20 titled as radhe shyam prabhas and po...\n",
              "\n",
              "[3275587 rows x 3 columns]"
            ]
          },
          "metadata": {
            "tags": []
          },
          "execution_count": 13
        }
      ]
    },
    {
      "cell_type": "code",
      "metadata": {
        "id": "vcH2_jXC_ypa"
      },
      "source": [
        "#taking only publish_date column and headline_text\r\n",
        "stock_headlines = stock_headlines.filter(['publish_date', 'headline_text'])"
      ],
      "execution_count": null,
      "outputs": []
    },
    {
      "cell_type": "code",
      "metadata": {
        "id": "yGnY81K1AEMg"
      },
      "source": [
        "# grouping the news headlines according to Date\r\n",
        "stock_headlines = stock_headlines.groupby(['publish_date'])['headline_text'].apply(lambda x: ','.join(x)).reset_index()"
      ],
      "execution_count": null,
      "outputs": []
    },
    {
      "cell_type": "code",
      "metadata": {
        "id": "cJxNcYvIAHEd"
      },
      "source": [
        "#sorting the values according to publish_date\r\n",
        "stock_headlines=stock_headlines.sort_values(by='publish_date')"
      ],
      "execution_count": null,
      "outputs": []
    },
    {
      "cell_type": "code",
      "metadata": {
        "colab": {
          "base_uri": "https://localhost:8080/",
          "height": 419
        },
        "id": "gGG8WxkQArHv",
        "outputId": "20e4c422-8c7c-4fb7-e520-94a438eb7ebd"
      },
      "source": [
        "stock_headlines"
      ],
      "execution_count": null,
      "outputs": [
        {
          "output_type": "execute_result",
          "data": {
            "text/html": [
              "<div>\n",
              "<style scoped>\n",
              "    .dataframe tbody tr th:only-of-type {\n",
              "        vertical-align: middle;\n",
              "    }\n",
              "\n",
              "    .dataframe tbody tr th {\n",
              "        vertical-align: top;\n",
              "    }\n",
              "\n",
              "    .dataframe thead th {\n",
              "        text-align: right;\n",
              "    }\n",
              "</style>\n",
              "<table border=\"1\" class=\"dataframe\">\n",
              "  <thead>\n",
              "    <tr style=\"text-align: right;\">\n",
              "      <th></th>\n",
              "      <th>publish_date</th>\n",
              "      <th>headline_text</th>\n",
              "    </tr>\n",
              "  </thead>\n",
              "  <tbody>\n",
              "    <tr>\n",
              "      <th>0</th>\n",
              "      <td>2001-01-01</td>\n",
              "      <td>win over cena satisfying but defeating underta...</td>\n",
              "    </tr>\n",
              "    <tr>\n",
              "      <th>1</th>\n",
              "      <td>2001-01-02</td>\n",
              "      <td>Status quo will not be disturbed at Ayodhya; s...</td>\n",
              "    </tr>\n",
              "    <tr>\n",
              "      <th>2</th>\n",
              "      <td>2001-01-03</td>\n",
              "      <td>Powerless north India gropes in the dark,Think...</td>\n",
              "    </tr>\n",
              "    <tr>\n",
              "      <th>3</th>\n",
              "      <td>2001-01-04</td>\n",
              "      <td>The string that pulled Stephen Hawking to Indi...</td>\n",
              "    </tr>\n",
              "    <tr>\n",
              "      <th>4</th>\n",
              "      <td>2001-01-05</td>\n",
              "      <td>Light combat craft takes India into club class...</td>\n",
              "    </tr>\n",
              "    <tr>\n",
              "      <th>...</th>\n",
              "      <td>...</td>\n",
              "      <td>...</td>\n",
              "    </tr>\n",
              "    <tr>\n",
              "      <th>7075</th>\n",
              "      <td>2020-06-26</td>\n",
              "      <td>Containment zone residents slam high prices ch...</td>\n",
              "    </tr>\n",
              "    <tr>\n",
              "      <th>7076</th>\n",
              "      <td>2020-06-27</td>\n",
              "      <td>like me i wont let you have a toxic relationsh...</td>\n",
              "    </tr>\n",
              "    <tr>\n",
              "      <th>7077</th>\n",
              "      <td>2020-06-28</td>\n",
              "      <td>Atanu Ghosh plans to rewrite old scripts to ma...</td>\n",
              "    </tr>\n",
              "    <tr>\n",
              "      <th>7078</th>\n",
              "      <td>2020-06-29</td>\n",
              "      <td>6 hot and stylish bikini looks of Katrina Kaif...</td>\n",
              "    </tr>\n",
              "    <tr>\n",
              "      <th>7079</th>\n",
              "      <td>2020-06-30</td>\n",
              "      <td>Detective Byomkesh Bakshy!,Edge of Tomorrow,Fi...</td>\n",
              "    </tr>\n",
              "  </tbody>\n",
              "</table>\n",
              "<p>7080 rows × 2 columns</p>\n",
              "</div>"
            ],
            "text/plain": [
              "     publish_date                                      headline_text\n",
              "0      2001-01-01  win over cena satisfying but defeating underta...\n",
              "1      2001-01-02  Status quo will not be disturbed at Ayodhya; s...\n",
              "2      2001-01-03  Powerless north India gropes in the dark,Think...\n",
              "3      2001-01-04  The string that pulled Stephen Hawking to Indi...\n",
              "4      2001-01-05  Light combat craft takes India into club class...\n",
              "...           ...                                                ...\n",
              "7075   2020-06-26  Containment zone residents slam high prices ch...\n",
              "7076   2020-06-27  like me i wont let you have a toxic relationsh...\n",
              "7077   2020-06-28  Atanu Ghosh plans to rewrite old scripts to ma...\n",
              "7078   2020-06-29  6 hot and stylish bikini looks of Katrina Kaif...\n",
              "7079   2020-06-30  Detective Byomkesh Bakshy!,Edge of Tomorrow,Fi...\n",
              "\n",
              "[7080 rows x 2 columns]"
            ]
          },
          "metadata": {
            "tags": []
          },
          "execution_count": 17
        }
      ]
    },
    {
      "cell_type": "code",
      "metadata": {
        "id": "sH_pF6zAvFBi"
      },
      "source": [
        "#renaming column 'publish_date' to 'Date'\r\n",
        "stock_headlines.columns=['Date','headline_text']"
      ],
      "execution_count": null,
      "outputs": []
    },
    {
      "cell_type": "code",
      "metadata": {
        "colab": {
          "base_uri": "https://localhost:8080/",
          "height": 419
        },
        "id": "csxszQLzvNXP",
        "outputId": "2b24d1d5-b3a3-485c-cee9-606298128e5c"
      },
      "source": [
        "stock_headlines"
      ],
      "execution_count": null,
      "outputs": [
        {
          "output_type": "execute_result",
          "data": {
            "text/html": [
              "<div>\n",
              "<style scoped>\n",
              "    .dataframe tbody tr th:only-of-type {\n",
              "        vertical-align: middle;\n",
              "    }\n",
              "\n",
              "    .dataframe tbody tr th {\n",
              "        vertical-align: top;\n",
              "    }\n",
              "\n",
              "    .dataframe thead th {\n",
              "        text-align: right;\n",
              "    }\n",
              "</style>\n",
              "<table border=\"1\" class=\"dataframe\">\n",
              "  <thead>\n",
              "    <tr style=\"text-align: right;\">\n",
              "      <th></th>\n",
              "      <th>Date</th>\n",
              "      <th>headline_text</th>\n",
              "    </tr>\n",
              "  </thead>\n",
              "  <tbody>\n",
              "    <tr>\n",
              "      <th>0</th>\n",
              "      <td>2001-01-01</td>\n",
              "      <td>win over cena satisfying but defeating underta...</td>\n",
              "    </tr>\n",
              "    <tr>\n",
              "      <th>1</th>\n",
              "      <td>2001-01-02</td>\n",
              "      <td>Status quo will not be disturbed at Ayodhya; s...</td>\n",
              "    </tr>\n",
              "    <tr>\n",
              "      <th>2</th>\n",
              "      <td>2001-01-03</td>\n",
              "      <td>Powerless north India gropes in the dark,Think...</td>\n",
              "    </tr>\n",
              "    <tr>\n",
              "      <th>3</th>\n",
              "      <td>2001-01-04</td>\n",
              "      <td>The string that pulled Stephen Hawking to Indi...</td>\n",
              "    </tr>\n",
              "    <tr>\n",
              "      <th>4</th>\n",
              "      <td>2001-01-05</td>\n",
              "      <td>Light combat craft takes India into club class...</td>\n",
              "    </tr>\n",
              "    <tr>\n",
              "      <th>...</th>\n",
              "      <td>...</td>\n",
              "      <td>...</td>\n",
              "    </tr>\n",
              "    <tr>\n",
              "      <th>7075</th>\n",
              "      <td>2020-06-26</td>\n",
              "      <td>Containment zone residents slam high prices ch...</td>\n",
              "    </tr>\n",
              "    <tr>\n",
              "      <th>7076</th>\n",
              "      <td>2020-06-27</td>\n",
              "      <td>like me i wont let you have a toxic relationsh...</td>\n",
              "    </tr>\n",
              "    <tr>\n",
              "      <th>7077</th>\n",
              "      <td>2020-06-28</td>\n",
              "      <td>Atanu Ghosh plans to rewrite old scripts to ma...</td>\n",
              "    </tr>\n",
              "    <tr>\n",
              "      <th>7078</th>\n",
              "      <td>2020-06-29</td>\n",
              "      <td>6 hot and stylish bikini looks of Katrina Kaif...</td>\n",
              "    </tr>\n",
              "    <tr>\n",
              "      <th>7079</th>\n",
              "      <td>2020-06-30</td>\n",
              "      <td>Detective Byomkesh Bakshy!,Edge of Tomorrow,Fi...</td>\n",
              "    </tr>\n",
              "  </tbody>\n",
              "</table>\n",
              "<p>7080 rows × 2 columns</p>\n",
              "</div>"
            ],
            "text/plain": [
              "           Date                                      headline_text\n",
              "0    2001-01-01  win over cena satisfying but defeating underta...\n",
              "1    2001-01-02  Status quo will not be disturbed at Ayodhya; s...\n",
              "2    2001-01-03  Powerless north India gropes in the dark,Think...\n",
              "3    2001-01-04  The string that pulled Stephen Hawking to Indi...\n",
              "4    2001-01-05  Light combat craft takes India into club class...\n",
              "...         ...                                                ...\n",
              "7075 2020-06-26  Containment zone residents slam high prices ch...\n",
              "7076 2020-06-27  like me i wont let you have a toxic relationsh...\n",
              "7077 2020-06-28  Atanu Ghosh plans to rewrite old scripts to ma...\n",
              "7078 2020-06-29  6 hot and stylish bikini looks of Katrina Kaif...\n",
              "7079 2020-06-30  Detective Byomkesh Bakshy!,Edge of Tomorrow,Fi...\n",
              "\n",
              "[7080 rows x 2 columns]"
            ]
          },
          "metadata": {
            "tags": []
          },
          "execution_count": 19
        }
      ]
    },
    {
      "cell_type": "code",
      "metadata": {
        "id": "ogxnxmRquq3A"
      },
      "source": [
        "#merging stock_prices and stock_headlines w.r.t to date\r\n",
        "stock_data=pd.merge(stock_prices,stock_headlines, on='Date')"
      ],
      "execution_count": null,
      "outputs": []
    },
    {
      "cell_type": "code",
      "metadata": {
        "colab": {
          "base_uri": "https://localhost:8080/",
          "height": 419
        },
        "id": "JnZYx8Yfp1h8",
        "outputId": "79472464-649a-4d4b-d0fb-5f65b0e19c87"
      },
      "source": [
        "stock_data"
      ],
      "execution_count": null,
      "outputs": [
        {
          "output_type": "execute_result",
          "data": {
            "text/html": [
              "<div>\n",
              "<style scoped>\n",
              "    .dataframe tbody tr th:only-of-type {\n",
              "        vertical-align: middle;\n",
              "    }\n",
              "\n",
              "    .dataframe tbody tr th {\n",
              "        vertical-align: top;\n",
              "    }\n",
              "\n",
              "    .dataframe thead th {\n",
              "        text-align: right;\n",
              "    }\n",
              "</style>\n",
              "<table border=\"1\" class=\"dataframe\">\n",
              "  <thead>\n",
              "    <tr style=\"text-align: right;\">\n",
              "      <th></th>\n",
              "      <th>Date</th>\n",
              "      <th>Open</th>\n",
              "      <th>High</th>\n",
              "      <th>Low</th>\n",
              "      <th>Close</th>\n",
              "      <th>Adj Close</th>\n",
              "      <th>Volume</th>\n",
              "      <th>headline_text</th>\n",
              "    </tr>\n",
              "  </thead>\n",
              "  <tbody>\n",
              "    <tr>\n",
              "      <th>0</th>\n",
              "      <td>2020-01-06</td>\n",
              "      <td>41378.339844</td>\n",
              "      <td>41378.339844</td>\n",
              "      <td>40613.960938</td>\n",
              "      <td>40676.628906</td>\n",
              "      <td>40676.628906</td>\n",
              "      <td>8700.0</td>\n",
              "      <td>With captive pics and posts; city shining on s...</td>\n",
              "    </tr>\n",
              "    <tr>\n",
              "      <th>1</th>\n",
              "      <td>2020-01-07</td>\n",
              "      <td>40983.039063</td>\n",
              "      <td>41230.140625</td>\n",
              "      <td>40727.371094</td>\n",
              "      <td>40869.468750</td>\n",
              "      <td>40869.468750</td>\n",
              "      <td>11900.0</td>\n",
              "      <td>Pro-CAA campaign in Bettiah turns unruly,Holy ...</td>\n",
              "    </tr>\n",
              "    <tr>\n",
              "      <th>2</th>\n",
              "      <td>2020-01-08</td>\n",
              "      <td>40574.828125</td>\n",
              "      <td>40866.359375</td>\n",
              "      <td>40476.550781</td>\n",
              "      <td>40817.738281</td>\n",
              "      <td>40817.738281</td>\n",
              "      <td>18200.0</td>\n",
              "      <td>Seems like systematic assault; say students,Co...</td>\n",
              "    </tr>\n",
              "    <tr>\n",
              "      <th>3</th>\n",
              "      <td>2020-01-09</td>\n",
              "      <td>41216.671875</td>\n",
              "      <td>41482.121094</td>\n",
              "      <td>41175.718750</td>\n",
              "      <td>41452.351563</td>\n",
              "      <td>41452.351563</td>\n",
              "      <td>7800.0</td>\n",
              "      <td>Health fix: Quick meals in your mason jar,Dead...</td>\n",
              "    </tr>\n",
              "    <tr>\n",
              "      <th>4</th>\n",
              "      <td>2020-01-10</td>\n",
              "      <td>41568.199219</td>\n",
              "      <td>41775.109375</td>\n",
              "      <td>41447.800781</td>\n",
              "      <td>41599.718750</td>\n",
              "      <td>41599.718750</td>\n",
              "      <td>13200.0</td>\n",
              "      <td>Locate more zones to accommodate vendors: Punj...</td>\n",
              "    </tr>\n",
              "    <tr>\n",
              "      <th>...</th>\n",
              "      <td>...</td>\n",
              "      <td>...</td>\n",
              "      <td>...</td>\n",
              "      <td>...</td>\n",
              "      <td>...</td>\n",
              "      <td>...</td>\n",
              "      <td>...</td>\n",
              "      <td>...</td>\n",
              "    </tr>\n",
              "    <tr>\n",
              "      <th>114</th>\n",
              "      <td>2020-06-24</td>\n",
              "      <td>35679.738281</td>\n",
              "      <td>35706.550781</td>\n",
              "      <td>34794.929688</td>\n",
              "      <td>34868.980469</td>\n",
              "      <td>34868.980469</td>\n",
              "      <td>26600.0</td>\n",
              "      <td>I never thought I had a voice until today: Vid...</td>\n",
              "    </tr>\n",
              "    <tr>\n",
              "      <th>115</th>\n",
              "      <td>2020-06-25</td>\n",
              "      <td>34525.390625</td>\n",
              "      <td>35081.609375</td>\n",
              "      <td>34499.781250</td>\n",
              "      <td>34842.101563</td>\n",
              "      <td>34842.101563</td>\n",
              "      <td>24600.0</td>\n",
              "      <td>Truck firms look for new export markets to sel...</td>\n",
              "    </tr>\n",
              "    <tr>\n",
              "      <th>116</th>\n",
              "      <td>2020-06-26</td>\n",
              "      <td>35144.781250</td>\n",
              "      <td>35254.878906</td>\n",
              "      <td>34910.339844</td>\n",
              "      <td>35171.269531</td>\n",
              "      <td>35171.269531</td>\n",
              "      <td>24800.0</td>\n",
              "      <td>Containment zone residents slam high prices ch...</td>\n",
              "    </tr>\n",
              "    <tr>\n",
              "      <th>117</th>\n",
              "      <td>2020-06-29</td>\n",
              "      <td>34926.949219</td>\n",
              "      <td>35032.359375</td>\n",
              "      <td>34662.058594</td>\n",
              "      <td>34961.519531</td>\n",
              "      <td>34961.519531</td>\n",
              "      <td>18300.0</td>\n",
              "      <td>6 hot and stylish bikini looks of Katrina Kaif...</td>\n",
              "    </tr>\n",
              "    <tr>\n",
              "      <th>118</th>\n",
              "      <td>2020-06-30</td>\n",
              "      <td>35168.300781</td>\n",
              "      <td>35233.910156</td>\n",
              "      <td>34812.800781</td>\n",
              "      <td>34915.800781</td>\n",
              "      <td>34915.800781</td>\n",
              "      <td>18500.0</td>\n",
              "      <td>Detective Byomkesh Bakshy!,Edge of Tomorrow,Fi...</td>\n",
              "    </tr>\n",
              "  </tbody>\n",
              "</table>\n",
              "<p>119 rows × 8 columns</p>\n",
              "</div>"
            ],
            "text/plain": [
              "          Date  ...                                      headline_text\n",
              "0   2020-01-06  ...  With captive pics and posts; city shining on s...\n",
              "1   2020-01-07  ...  Pro-CAA campaign in Bettiah turns unruly,Holy ...\n",
              "2   2020-01-08  ...  Seems like systematic assault; say students,Co...\n",
              "3   2020-01-09  ...  Health fix: Quick meals in your mason jar,Dead...\n",
              "4   2020-01-10  ...  Locate more zones to accommodate vendors: Punj...\n",
              "..         ...  ...                                                ...\n",
              "114 2020-06-24  ...  I never thought I had a voice until today: Vid...\n",
              "115 2020-06-25  ...  Truck firms look for new export markets to sel...\n",
              "116 2020-06-26  ...  Containment zone residents slam high prices ch...\n",
              "117 2020-06-29  ...  6 hot and stylish bikini looks of Katrina Kaif...\n",
              "118 2020-06-30  ...  Detective Byomkesh Bakshy!,Edge of Tomorrow,Fi...\n",
              "\n",
              "[119 rows x 8 columns]"
            ]
          },
          "metadata": {
            "tags": []
          },
          "execution_count": 21
        }
      ]
    },
    {
      "cell_type": "code",
      "metadata": {
        "colab": {
          "base_uri": "https://localhost:8080/",
          "height": 609
        },
        "id": "SP6xH7T7vuXC",
        "outputId": "dedf52d4-f8f9-4295-e41d-f79e93f16031"
      },
      "source": [
        "# setting figure size\r\n",
        "plt.figure(figsize=(15,10))\r\n",
        "\r\n",
        "# plotting the close price and  rolling mean of close price\r\n",
        "stock_data['Close'].plot()\r\n",
        "mean=stock_data['Close'].rolling(window=5).mean()\r\n",
        "\r\n",
        "mean.plot(color = 'r', label = 'Rolling Mean')\r\n"
      ],
      "execution_count": null,
      "outputs": [
        {
          "output_type": "execute_result",
          "data": {
            "text/plain": [
              "<matplotlib.axes._subplots.AxesSubplot at 0x7f292a074128>"
            ]
          },
          "metadata": {
            "tags": []
          },
          "execution_count": 21
        },
        {
          "output_type": "display_data",
          "data": {
            "image/png": "[encoded data removed]",
            "text/plain": [
              "<Figure size 1080x720 with 1 Axes>"
            ]
          },
          "metadata": {
            "tags": [],
            "needs_background": "light"
          }
        }
      ]
    },
    {
      "cell_type": "code",
      "metadata": {
        "colab": {
          "base_uri": "https://localhost:8080/"
        },
        "id": "MZwJQ2Ov1jam",
        "outputId": "69ae4866-a5ff-4a7a-f41e-e20fe24fc588"
      },
      "source": [
        "#doing the sentiment analysis of the headlines\r\n",
        "from nltk.sentiment.vader import SentimentIntensityAnalyzer\r\n",
        "\r\n",
        "sid = SentimentIntensityAnalyzer()\r\n",
        "print('Start calculating sentiment scores:')\r\n",
        "\r\n",
        "stock_data['compound'] = stock_data['headline_text'].apply(lambda x: sid.polarity_scores(x)['compound'])\r\n",
        "print('Compound Done')"
      ],
      "execution_count": null,
      "outputs": [
        {
          "output_type": "stream",
          "text": [
            "/usr/local/lib/python3.6/dist-packages/nltk/twitter/__init__.py:20: UserWarning: The twython library has not been installed. Some functionality from the twitter package will not be available.\n",
            "  warnings.warn(\"The twython library has not been installed. \"\n"
          ],
          "name": "stderr"
        },
        {
          "output_type": "stream",
          "text": [
            "Start calculating sentiment scores:\n",
            "Compound Done\n"
          ],
          "name": "stdout"
        }
      ]
    },
    {
      "cell_type": "code",
      "metadata": {
        "colab": {
          "base_uri": "https://localhost:8080/",
          "height": 638
        },
        "id": "N3seauoA5JGn",
        "outputId": "c360f4c0-fc24-4242-a6af-19127edcd5a1"
      },
      "source": [
        "#Setting plot size and labels\r\n",
        "plt.figure(figsize=(15,10))\r\n",
        "\r\n",
        "plt.plot(stock_data['Date'],stock_data['Close'])\r\n",
        "\r\n",
        "\r\n",
        "plt.title(\"Close Price\")\r\n",
        "plt.xlabel('Date')\r\n",
        "plt.ylabel('Close Price (INR)')"
      ],
      "execution_count": null,
      "outputs": [
        {
          "output_type": "execute_result",
          "data": {
            "text/plain": [
              "Text(0, 0.5, 'Close Price (INR)')"
            ]
          },
          "metadata": {
            "tags": []
          },
          "execution_count": 23
        },
        {
          "output_type": "display_data",
          "data": {
            "image/png": "[encoded data removed]",
            "text/plain": [
              "<Figure size 1080x720 with 1 Axes>"
            ]
          },
          "metadata": {
            "tags": [],
            "needs_background": "light"
          }
        }
      ]
    },
    {
      "cell_type": "code",
      "metadata": {
        "colab": {
          "base_uri": "https://localhost:8080/",
          "height": 419
        },
        "id": "Spa6SImI4qU_",
        "outputId": "b4c8af91-46aa-4ebf-cbe7-1f056233c646"
      },
      "source": [
        "stock_data"
      ],
      "execution_count": null,
      "outputs": [
        {
          "output_type": "execute_result",
          "data": {
            "text/html": [
              "<div>\n",
              "<style scoped>\n",
              "    .dataframe tbody tr th:only-of-type {\n",
              "        vertical-align: middle;\n",
              "    }\n",
              "\n",
              "    .dataframe tbody tr th {\n",
              "        vertical-align: top;\n",
              "    }\n",
              "\n",
              "    .dataframe thead th {\n",
              "        text-align: right;\n",
              "    }\n",
              "</style>\n",
              "<table border=\"1\" class=\"dataframe\">\n",
              "  <thead>\n",
              "    <tr style=\"text-align: right;\">\n",
              "      <th></th>\n",
              "      <th>Date</th>\n",
              "      <th>Open</th>\n",
              "      <th>High</th>\n",
              "      <th>Low</th>\n",
              "      <th>Close</th>\n",
              "      <th>Adj Close</th>\n",
              "      <th>Volume</th>\n",
              "      <th>headline_text</th>\n",
              "      <th>compound</th>\n",
              "    </tr>\n",
              "  </thead>\n",
              "  <tbody>\n",
              "    <tr>\n",
              "      <th>0</th>\n",
              "      <td>2020-01-06</td>\n",
              "      <td>41378.339844</td>\n",
              "      <td>41378.339844</td>\n",
              "      <td>40613.960938</td>\n",
              "      <td>40676.628906</td>\n",
              "      <td>40676.628906</td>\n",
              "      <td>8700.0</td>\n",
              "      <td>With captive pics and posts; city shining on s...</td>\n",
              "      <td>-0.9995</td>\n",
              "    </tr>\n",
              "    <tr>\n",
              "      <th>1</th>\n",
              "      <td>2020-01-07</td>\n",
              "      <td>40983.039063</td>\n",
              "      <td>41230.140625</td>\n",
              "      <td>40727.371094</td>\n",
              "      <td>40869.468750</td>\n",
              "      <td>40869.468750</td>\n",
              "      <td>11900.0</td>\n",
              "      <td>Pro-CAA campaign in Bettiah turns unruly,Holy ...</td>\n",
              "      <td>-1.0000</td>\n",
              "    </tr>\n",
              "    <tr>\n",
              "      <th>2</th>\n",
              "      <td>2020-01-08</td>\n",
              "      <td>40574.828125</td>\n",
              "      <td>40866.359375</td>\n",
              "      <td>40476.550781</td>\n",
              "      <td>40817.738281</td>\n",
              "      <td>40817.738281</td>\n",
              "      <td>18200.0</td>\n",
              "      <td>Seems like systematic assault; say students,Co...</td>\n",
              "      <td>-0.9999</td>\n",
              "    </tr>\n",
              "    <tr>\n",
              "      <th>3</th>\n",
              "      <td>2020-01-09</td>\n",
              "      <td>41216.671875</td>\n",
              "      <td>41482.121094</td>\n",
              "      <td>41175.718750</td>\n",
              "      <td>41452.351563</td>\n",
              "      <td>41452.351563</td>\n",
              "      <td>7800.0</td>\n",
              "      <td>Health fix: Quick meals in your mason jar,Dead...</td>\n",
              "      <td>-0.9997</td>\n",
              "    </tr>\n",
              "    <tr>\n",
              "      <th>4</th>\n",
              "      <td>2020-01-10</td>\n",
              "      <td>41568.199219</td>\n",
              "      <td>41775.109375</td>\n",
              "      <td>41447.800781</td>\n",
              "      <td>41599.718750</td>\n",
              "      <td>41599.718750</td>\n",
              "      <td>13200.0</td>\n",
              "      <td>Locate more zones to accommodate vendors: Punj...</td>\n",
              "      <td>-0.9999</td>\n",
              "    </tr>\n",
              "    <tr>\n",
              "      <th>...</th>\n",
              "      <td>...</td>\n",
              "      <td>...</td>\n",
              "      <td>...</td>\n",
              "      <td>...</td>\n",
              "      <td>...</td>\n",
              "      <td>...</td>\n",
              "      <td>...</td>\n",
              "      <td>...</td>\n",
              "      <td>...</td>\n",
              "    </tr>\n",
              "    <tr>\n",
              "      <th>114</th>\n",
              "      <td>2020-06-24</td>\n",
              "      <td>35679.738281</td>\n",
              "      <td>35706.550781</td>\n",
              "      <td>34794.929688</td>\n",
              "      <td>34868.980469</td>\n",
              "      <td>34868.980469</td>\n",
              "      <td>26600.0</td>\n",
              "      <td>I never thought I had a voice until today: Vid...</td>\n",
              "      <td>-0.9997</td>\n",
              "    </tr>\n",
              "    <tr>\n",
              "      <th>115</th>\n",
              "      <td>2020-06-25</td>\n",
              "      <td>34525.390625</td>\n",
              "      <td>35081.609375</td>\n",
              "      <td>34499.781250</td>\n",
              "      <td>34842.101563</td>\n",
              "      <td>34842.101563</td>\n",
              "      <td>24600.0</td>\n",
              "      <td>Truck firms look for new export markets to sel...</td>\n",
              "      <td>-0.9999</td>\n",
              "    </tr>\n",
              "    <tr>\n",
              "      <th>116</th>\n",
              "      <td>2020-06-26</td>\n",
              "      <td>35144.781250</td>\n",
              "      <td>35254.878906</td>\n",
              "      <td>34910.339844</td>\n",
              "      <td>35171.269531</td>\n",
              "      <td>35171.269531</td>\n",
              "      <td>24800.0</td>\n",
              "      <td>Containment zone residents slam high prices ch...</td>\n",
              "      <td>-0.9999</td>\n",
              "    </tr>\n",
              "    <tr>\n",
              "      <th>117</th>\n",
              "      <td>2020-06-29</td>\n",
              "      <td>34926.949219</td>\n",
              "      <td>35032.359375</td>\n",
              "      <td>34662.058594</td>\n",
              "      <td>34961.519531</td>\n",
              "      <td>34961.519531</td>\n",
              "      <td>18300.0</td>\n",
              "      <td>6 hot and stylish bikini looks of Katrina Kaif...</td>\n",
              "      <td>-0.9997</td>\n",
              "    </tr>\n",
              "    <tr>\n",
              "      <th>118</th>\n",
              "      <td>2020-06-30</td>\n",
              "      <td>35168.300781</td>\n",
              "      <td>35233.910156</td>\n",
              "      <td>34812.800781</td>\n",
              "      <td>34915.800781</td>\n",
              "      <td>34915.800781</td>\n",
              "      <td>18500.0</td>\n",
              "      <td>Detective Byomkesh Bakshy!,Edge of Tomorrow,Fi...</td>\n",
              "      <td>-0.9998</td>\n",
              "    </tr>\n",
              "  </tbody>\n",
              "</table>\n",
              "<p>119 rows × 9 columns</p>\n",
              "</div>"
            ],
            "text/plain": [
              "          Date  ...  compound\n",
              "0   2020-01-06  ...   -0.9995\n",
              "1   2020-01-07  ...   -1.0000\n",
              "2   2020-01-08  ...   -0.9999\n",
              "3   2020-01-09  ...   -0.9997\n",
              "4   2020-01-10  ...   -0.9999\n",
              "..         ...  ...       ...\n",
              "114 2020-06-24  ...   -0.9997\n",
              "115 2020-06-25  ...   -0.9999\n",
              "116 2020-06-26  ...   -0.9999\n",
              "117 2020-06-29  ...   -0.9997\n",
              "118 2020-06-30  ...   -0.9998\n",
              "\n",
              "[119 rows x 9 columns]"
            ]
          },
          "metadata": {
            "tags": []
          },
          "execution_count": 24
        }
      ]
    },
    {
      "cell_type": "code",
      "metadata": {
        "colab": {
          "base_uri": "https://localhost:8080/",
          "height": 204
        },
        "id": "2NmXlVRX4uiQ",
        "outputId": "c56a3795-0f31-487e-9231-fe81d7720926"
      },
      "source": [
        "# dropping unwanted 'headline_text' and rearranging columns\r\n",
        "stock_data.drop(['headline_text'], inplace=True, axis=1)\r\n",
        "stock_data = stock_data[[ 'Open', 'High', 'Low', 'Volume', 'compound', 'Close']]\r\n",
        "\r\n",
        "# final stock_data\r\n",
        "stock_data.head()"
      ],
      "execution_count": null,
      "outputs": [
        {
          "output_type": "execute_result",
          "data": {
            "text/html": [
              "<div>\n",
              "<style scoped>\n",
              "    .dataframe tbody tr th:only-of-type {\n",
              "        vertical-align: middle;\n",
              "    }\n",
              "\n",
              "    .dataframe tbody tr th {\n",
              "        vertical-align: top;\n",
              "    }\n",
              "\n",
              "    .dataframe thead th {\n",
              "        text-align: right;\n",
              "    }\n",
              "</style>\n",
              "<table border=\"1\" class=\"dataframe\">\n",
              "  <thead>\n",
              "    <tr style=\"text-align: right;\">\n",
              "      <th></th>\n",
              "      <th>Open</th>\n",
              "      <th>High</th>\n",
              "      <th>Low</th>\n",
              "      <th>Volume</th>\n",
              "      <th>compound</th>\n",
              "      <th>Close</th>\n",
              "    </tr>\n",
              "  </thead>\n",
              "  <tbody>\n",
              "    <tr>\n",
              "      <th>0</th>\n",
              "      <td>41378.339844</td>\n",
              "      <td>41378.339844</td>\n",
              "      <td>40613.960938</td>\n",
              "      <td>8700.0</td>\n",
              "      <td>-0.9995</td>\n",
              "      <td>40676.628906</td>\n",
              "    </tr>\n",
              "    <tr>\n",
              "      <th>1</th>\n",
              "      <td>40983.039063</td>\n",
              "      <td>41230.140625</td>\n",
              "      <td>40727.371094</td>\n",
              "      <td>11900.0</td>\n",
              "      <td>-1.0000</td>\n",
              "      <td>40869.468750</td>\n",
              "    </tr>\n",
              "    <tr>\n",
              "      <th>2</th>\n",
              "      <td>40574.828125</td>\n",
              "      <td>40866.359375</td>\n",
              "      <td>40476.550781</td>\n",
              "      <td>18200.0</td>\n",
              "      <td>-0.9999</td>\n",
              "      <td>40817.738281</td>\n",
              "    </tr>\n",
              "    <tr>\n",
              "      <th>3</th>\n",
              "      <td>41216.671875</td>\n",
              "      <td>41482.121094</td>\n",
              "      <td>41175.718750</td>\n",
              "      <td>7800.0</td>\n",
              "      <td>-0.9997</td>\n",
              "      <td>41452.351563</td>\n",
              "    </tr>\n",
              "    <tr>\n",
              "      <th>4</th>\n",
              "      <td>41568.199219</td>\n",
              "      <td>41775.109375</td>\n",
              "      <td>41447.800781</td>\n",
              "      <td>13200.0</td>\n",
              "      <td>-0.9999</td>\n",
              "      <td>41599.718750</td>\n",
              "    </tr>\n",
              "  </tbody>\n",
              "</table>\n",
              "</div>"
            ],
            "text/plain": [
              "           Open          High           Low   Volume  compound         Close\n",
              "0  41378.339844  41378.339844  40613.960938   8700.0   -0.9995  40676.628906\n",
              "1  40983.039063  41230.140625  40727.371094  11900.0   -1.0000  40869.468750\n",
              "2  40574.828125  40866.359375  40476.550781  18200.0   -0.9999  40817.738281\n",
              "3  41216.671875  41482.121094  41175.718750   7800.0   -0.9997  41452.351563\n",
              "4  41568.199219  41775.109375  41447.800781  13200.0   -0.9999  41599.718750"
            ]
          },
          "metadata": {
            "tags": []
          },
          "execution_count": 25
        }
      ]
    },
    {
      "cell_type": "code",
      "metadata": {
        "id": "5xcRuaFb8I1E"
      },
      "source": [
        "X=stock_data.iloc[:,:-1].values\r\n",
        "Y=stock_data.iloc[:,-1].values"
      ],
      "execution_count": null,
      "outputs": []
    },
    {
      "cell_type": "code",
      "metadata": {
        "id": "Jc8QWbvD8bxT"
      },
      "source": [
        "#splitting the dataset into training and test set\r\n",
        "from sklearn.model_selection import train_test_split\r\n",
        "X_train,X_test,Y_train,Y_test=train_test_split(X,Y,test_size=0.2,random_state=0)\r\n"
      ],
      "execution_count": null,
      "outputs": []
    },
    {
      "cell_type": "code",
      "metadata": {
        "id": "b4Gq34WB80fe"
      },
      "source": [
        "#feature scaling\r\n",
        "from sklearn.preprocessing import StandardScaler\r\n",
        "sc_X=StandardScaler()\r\n",
        "X_train=sc_X.fit_transform(X_train)\r\n",
        "X_test=sc_X.transform(X_test)\r\n"
      ],
      "execution_count": null,
      "outputs": []
    },
    {
      "cell_type": "code",
      "metadata": {
        "colab": {
          "base_uri": "https://localhost:8080/"
        },
        "id": "QvrfMEqE_Mfa",
        "outputId": "bc92bbc5-fbdc-4d39-a2a9-3fd00618554d"
      },
      "source": [
        "#data modelling\r\n",
        "import xgboost \r\n",
        "xgb = xgboost.XGBRegressor()\r\n",
        "xgb.fit(X_train, Y_train)"
      ],
      "execution_count": null,
      "outputs": [
        {
          "output_type": "stream",
          "text": [
            "[07:56:07] WARNING: /workspace/src/objective/regression_obj.cu:152: reg:linear is now deprecated in favor of reg:squarederror.\n"
          ],
          "name": "stdout"
        },
        {
          "output_type": "execute_result",
          "data": {
            "text/plain": [
              "XGBRegressor(base_score=0.5, booster='gbtree', colsample_bylevel=1,\n",
              "             colsample_bynode=1, colsample_bytree=1, gamma=0,\n",
              "             importance_type='gain', learning_rate=0.1, max_delta_step=0,\n",
              "             max_depth=3, min_child_weight=1, missing=None, n_estimators=100,\n",
              "             n_jobs=1, nthread=None, objective='reg:linear', random_state=0,\n",
              "             reg_alpha=0, reg_lambda=1, scale_pos_weight=1, seed=None,\n",
              "             silent=None, subsample=1, verbosity=1)"
            ]
          },
          "metadata": {
            "tags": []
          },
          "execution_count": 29
        }
      ]
    },
    {
      "cell_type": "code",
      "metadata": {
        "colab": {
          "base_uri": "https://localhost:8080/"
        },
        "id": "TMkjryBp_v76",
        "outputId": "ade2f4d9-1bf3-4d35-e384-dfdee9131d8d"
      },
      "source": [
        "#gettign the prediction\r\n",
        "predictions = xgb.predict(X_test)"
      ],
      "execution_count": null,
      "outputs": [
        {
          "output_type": "stream",
          "text": [
            "361035.20621838025\n"
          ],
          "name": "stdout"
        }
      ]
    },
    {
      "cell_type": "code",
      "metadata": {
        "colab": {
          "base_uri": "https://localhost:8080/",
          "height": 421
        },
        "id": "j6-Hbep5Aavo",
        "outputId": "c671a553-052b-4407-9db7-23288c56b65c"
      },
      "source": [
        "#plotting prediction w.r.t Y_test\r\n",
        "plt.figure(figsize=(15,6))\r\n",
        "plt.plot(Y_test, label='Test', color='b')\r\n",
        "plt.plot(predictions, label='Prediction', color='r')\r\n",
        "plt.title('BSESN Stock Price Prediction')\r\n",
        "plt.xlabel('Time')\r\n",
        "plt.ylabel('Stock Price')"
      ],
      "execution_count": null,
      "outputs": [
        {
          "output_type": "execute_result",
          "data": {
            "text/plain": [
              "Text(0, 0.5, 'Stock Price')"
            ]
          },
          "metadata": {
            "tags": []
          },
          "execution_count": 42
        },
        {
          "output_type": "display_data",
          "data": {
            "image/png": "[encoded data removed]",
            "text/plain": [
              "<Figure size 1080x432 with 1 Axes>"
            ]
          },
          "metadata": {
            "tags": [],
            "needs_background": "light"
          }
        }
      ]
    }
  ]
}